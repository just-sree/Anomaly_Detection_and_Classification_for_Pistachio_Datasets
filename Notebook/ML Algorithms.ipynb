{
 "cells": [
  {
   "cell_type": "markdown",
   "id": "175f5e6a",
   "metadata": {},
   "source": [
    "# Advanced Machine Learning Project\n",
    "This notebook analyzes the pistachio dataset using advanced machine learning techniques for anomaly detection and classification.\n",
    "\n",
    "## Objectives:\n",
    "- Perform data cleaning and preprocessing\n",
    "- Apply dimensionality reduction (PCA, LDA)\n",
    "- Implement anomaly detection\n",
    "- Train and evaluate classification models\n",
    "- Visualize results\n",
    "\n",
    "---\n"
   ]
  },
  {
   "cell_type": "markdown",
   "metadata": {
    "id": "E7THmHwieobM"
   },
   "source": [
    "#Libraries"
   ]
  },
  {
   "cell_type": "code",
   "execution_count": 18,
   "metadata": {
    "id": "IOuqcwMweqko"
   },
   "outputs": [],
   "source": [
    "import os\n",
    "import shutil\n",
    "import numpy as np\n",
    "import pandas as pd\n",
    "import matplotlib.pyplot as plt\n",
    "import seaborn as sns\n",
    "from skimage.io import imread\n",
    "from skimage.transform import resize\n",
    "from sklearn.model_selection import train_test_split, GridSearchCV, RandomizedSearchCV\n",
    "from sklearn.preprocessing import StandardScaler, LabelEncoder\n",
    "from sklearn.ensemble import RandomForestClassifier, IsolationForest\n",
    "from sklearn.neighbors import LocalOutlierFactor\n",
    "from sklearn.svm import OneClassSVM\n",
    "from sklearn.neural_network import MLPClassifier\n",
    "from sklearn.naive_bayes import GaussianNB\n",
    "from sklearn.metrics import classification_report, accuracy_score, f1_score, confusion_matrix, ConfusionMatrixDisplay\n"
   ]
  },
  {
   "cell_type": "code",
   "execution_count": 9,
   "metadata": {
    "colab": {
     "base_uri": "https://localhost:8080/"
    },
    "id": "5958waUcbkEU",
    "outputId": "e8fdcc3d-141d-476c-cb0e-cad1bb8b42c0"
   },
   "outputs": [
    {
     "name": "stdout",
     "output_type": "stream",
     "text": [
      "Archive:  output.zip\n",
      "  inflating: corrected_data.csv      \n",
      "  inflating: lda_reduced_data.csv    \n",
      "  inflating: normalized_data.csv     \n",
      "  inflating: pca_reduced_data.csv    \n",
      "  inflating: standardized_data.csv   \n"
     ]
    }
   ],
   "source": [
    "#unzip output folder\n",
    "!unzip -j output.zip"
   ]
  },
  {
   "cell_type": "code",
   "execution_count": 6,
   "metadata": {
    "id": "9vJdlTYpaL7r"
   },
   "outputs": [],
   "source": [
    "# Paths to the output CSV files\n",
    "output_files = [\n",
    "    \"corrected_data.csv\",\n",
    "    \"standardized_data.csv\",\n",
    "    \"normalized_data.csv\",\n",
    "    \"pca_reduced_data.csv\",\n",
    "    \"lda_reduced_data.csv\"\n",
    "    ]"
   ]
  },
  {
   "cell_type": "code",
   "execution_count": 5,
   "metadata": {
    "colab": {
     "base_uri": "https://localhost:8080/"
    },
    "id": "VSm6z8ZExvMM",
    "outputId": "b163f621-d238-4852-8112-1847f1f911bb"
   },
   "outputs": [
    {
     "name": "stdout",
     "output_type": "stream",
     "text": [
      "corrected_data.csv\n",
      "Number of instances: 2148\n",
      "Features: Index(['Area', 'Perimeter', 'Major_Axis', 'Minor_Axis', 'Eccentricity',\n",
      "       'Eqdiasq', 'Solidity', 'Convex_Area', 'Extent', 'Aspect_Ratio',\n",
      "       'Roundness', 'Compactness', 'Shapefactor_1', 'Shapefactor_2',\n",
      "       'Shapefactor_3', 'Shapefactor_4', 'Mean_RR', 'Mean_RG', 'Mean_RB',\n",
      "       'StdDev_RR', 'StdDev_RG', 'StdDev_RB', 'Skew_RR', 'Skew_RG', 'Skew_RB',\n",
      "       'Kurtosis_RR', 'Kurtosis_RG', 'Kurtosis_RB', 'Class'],\n",
      "      dtype='object')\n",
      "\n",
      "\n",
      "standardized_data.csv\n",
      "Number of instances: 2148\n",
      "Features: Index(['Area', 'Perimeter', 'Major_Axis', 'Minor_Axis', 'Eccentricity',\n",
      "       'Eqdiasq', 'Solidity', 'Convex_Area', 'Extent', 'Aspect_Ratio',\n",
      "       'Roundness', 'Compactness', 'Shapefactor_1', 'Shapefactor_2',\n",
      "       'Shapefactor_3', 'Shapefactor_4', 'Mean_RR', 'Mean_RG', 'Mean_RB',\n",
      "       'StdDev_RR', 'StdDev_RG', 'StdDev_RB', 'Skew_RR', 'Skew_RG', 'Skew_RB',\n",
      "       'Kurtosis_RR', 'Kurtosis_RG', 'Kurtosis_RB', 'Class'],\n",
      "      dtype='object')\n",
      "\n",
      "\n",
      "normalized_data.csv\n",
      "Number of instances: 2148\n",
      "Features: Index(['Area', 'Perimeter', 'Major_Axis', 'Minor_Axis', 'Eccentricity',\n",
      "       'Eqdiasq', 'Solidity', 'Convex_Area', 'Extent', 'Aspect_Ratio',\n",
      "       'Roundness', 'Compactness', 'Shapefactor_1', 'Shapefactor_2',\n",
      "       'Shapefactor_3', 'Shapefactor_4', 'Mean_RR', 'Mean_RG', 'Mean_RB',\n",
      "       'StdDev_RR', 'StdDev_RG', 'StdDev_RB', 'Skew_RR', 'Skew_RG', 'Skew_RB',\n",
      "       'Kurtosis_RR', 'Kurtosis_RG', 'Kurtosis_RB', 'Class'],\n",
      "      dtype='object')\n",
      "\n",
      "\n",
      "pca_reduced_data.csv\n",
      "Number of instances: 2148\n",
      "Features: Index(['0', '1', '2', '3', '4', '5', '6', '7', '8', '9', '10', '11', '12',\n",
      "       '13', 'Class'],\n",
      "      dtype='object')\n",
      "\n",
      "\n",
      "lda_reduced_data.csv\n",
      "Number of instances: 2148\n",
      "Features: Index(['0', 'Class'], dtype='object')\n",
      "\n",
      "\n"
     ]
    }
   ],
   "source": [
    "for file in output_files:\n",
    "  data = pd.read_csv(file)\n",
    "  print(file)\n",
    "  print(\"Number of instances:\", data.shape[0])\n",
    "  print(\"Features:\", data.columns)\n",
    "  print(\"\\n\")"
   ]
  },
  {
   "cell_type": "code",
   "execution_count": 6,
   "metadata": {
    "colab": {
     "base_uri": "https://localhost:8080/"
    },
    "id": "gUshXjjXcp6i",
    "outputId": "c10e6ddb-78ab-4d6b-efa5-2a3a28013b76"
   },
   "outputs": [
    {
     "name": "stdout",
     "output_type": "stream",
     "text": [
      "Index(['Area', 'Perimeter', 'Major_Axis', 'Minor_Axis', 'Eccentricity',\n",
      "       'Eqdiasq', 'Solidity', 'Convex_Area', 'Extent', 'Aspect_Ratio',\n",
      "       'Roundness', 'Compactness', 'Shapefactor_1', 'Shapefactor_2',\n",
      "       'Shapefactor_3', 'Shapefactor_4', 'Mean_RR', 'Mean_RG', 'Mean_RB',\n",
      "       'StdDev_RR', 'StdDev_RG', 'StdDev_RB', 'Skew_RR', 'Skew_RG', 'Skew_RB',\n",
      "       'Kurtosis_RR', 'Kurtosis_RG', 'Kurtosis_RB', 'Class'],\n",
      "      dtype='object')\n",
      "Index(['Area', 'Perimeter', 'Major_Axis', 'Minor_Axis', 'Eccentricity',\n",
      "       'Eqdiasq', 'Solidity', 'Convex_Area', 'Extent', 'Aspect_Ratio',\n",
      "       'Roundness', 'Compactness', 'Shapefactor_1', 'Shapefactor_2',\n",
      "       'Shapefactor_3', 'Shapefactor_4', 'Mean_RR', 'Mean_RG', 'Mean_RB',\n",
      "       'StdDev_RR', 'StdDev_RG', 'StdDev_RB', 'Skew_RR', 'Skew_RG', 'Skew_RB',\n",
      "       'Kurtosis_RR', 'Kurtosis_RG', 'Kurtosis_RB', 'Class'],\n",
      "      dtype='object')\n",
      "Index(['Area', 'Perimeter', 'Major_Axis', 'Minor_Axis', 'Eccentricity',\n",
      "       'Eqdiasq', 'Solidity', 'Convex_Area', 'Extent', 'Aspect_Ratio',\n",
      "       'Roundness', 'Compactness', 'Shapefactor_1', 'Shapefactor_2',\n",
      "       'Shapefactor_3', 'Shapefactor_4', 'Mean_RR', 'Mean_RG', 'Mean_RB',\n",
      "       'StdDev_RR', 'StdDev_RG', 'StdDev_RB', 'Skew_RR', 'Skew_RG', 'Skew_RB',\n",
      "       'Kurtosis_RR', 'Kurtosis_RG', 'Kurtosis_RB', 'Class'],\n",
      "      dtype='object')\n",
      "Index(['0', '1', '2', '3', '4', '5', '6', '7', '8', '9', '10', '11', '12',\n",
      "       '13', 'Class'],\n",
      "      dtype='object')\n",
      "Index(['0', 'Class'], dtype='object')\n"
     ]
    }
   ],
   "source": [
    "for file_path in output_files:\n",
    "    # Load the dataset\n",
    "    df = pd.read_csv(file_path)\n",
    "    print(df.columns)"
   ]
  },
  {
   "cell_type": "markdown",
   "metadata": {
    "id": "vQTuNq0vZsb8"
   },
   "source": [
    "#Outlier Detection"
   ]
  },
  {
   "cell_type": "code",
   "execution_count": 22,
   "metadata": {
    "colab": {
     "base_uri": "https://localhost:8080/"
    },
    "id": "R63nZ8fYPSW7",
    "outputId": "513447b3-83ba-4386-902e-2b8f49bc5c2e"
   },
   "outputs": [
    {
     "name": "stdout",
     "output_type": "stream",
     "text": [
      "Processing dataset: corrected_data.csv\n",
      "Number of LOF outliers: 44\n",
      "Number of ISF outliers: 169\n",
      "Number of OCSVM outliers: 216\n",
      "Number of common outliers (LOF, ISF, OCSVM): 11\n",
      "Processing dataset: standardized_data.csv\n",
      "Number of LOF outliers: 27\n",
      "Number of ISF outliers: 169\n",
      "Number of OCSVM outliers: 218\n",
      "Number of common outliers (LOF, ISF, OCSVM): 21\n",
      "Processing dataset: normalized_data.csv\n",
      "Number of LOF outliers: 19\n",
      "Number of ISF outliers: 169\n",
      "Number of OCSVM outliers: 217\n",
      "Number of common outliers (LOF, ISF, OCSVM): 16\n",
      "Processing dataset: pca_reduced_data.csv\n",
      "Number of LOF outliers: 28\n",
      "Number of ISF outliers: 102\n",
      "Number of OCSVM outliers: 215\n",
      "Number of common outliers (LOF, ISF, OCSVM): 22\n",
      "Processing dataset: lda_reduced_data.csv\n",
      "Number of LOF outliers: 0\n",
      "Number of ISF outliers: 2148\n",
      "Number of OCSVM outliers: 2148\n",
      "Number of common outliers (LOF, ISF, OCSVM): 0\n"
     ]
    }
   ],
   "source": [
    "def anomaly_detection(data_files, output_folder):\n",
    "    if not os.path.exists(output_folder):\n",
    "        os.makedirs(output_folder)\n",
    "\n",
    "    for file_path in data_files:\n",
    "        print(f\"Processing dataset: {file_path}\")\n",
    "\n",
    "        # Load the dataset\n",
    "        df = pd.read_csv(file_path)\n",
    "\n",
    "        # Drop class labels for unsupervised outlier detection\n",
    "        X = df.drop(columns=['Class'])\n",
    "\n",
    "        # Initialize the outlier detection models\n",
    "        clf_lof = LocalOutlierFactor(n_neighbors=20, metric='euclidean', contamination='auto')\n",
    "        clf_isf = IsolationForest(contamination='auto', random_state=42)\n",
    "        clf_ocsvm = OneClassSVM(nu=0.1, gamma='scale')\n",
    "\n",
    "        # Detect outliers using each model\n",
    "        y_pred_lof = clf_lof.fit_predict(X)\n",
    "        y_pred_isf = clf_isf.fit_predict(X)\n",
    "        y_pred_ocsvm = clf_ocsvm.fit_predict(X)\n",
    "\n",
    "        # Convert predictions to boolean arrays for easy counting\n",
    "        is_outlier_lof = y_pred_lof == -1\n",
    "        is_outlier_isf = y_pred_isf == -1\n",
    "        is_outlier_ocsvm = y_pred_ocsvm == -1\n",
    "\n",
    "        # Count outliers detected by each method\n",
    "        n_outliers_lof = np.sum(is_outlier_lof)\n",
    "        n_outliers_isf = np.sum(is_outlier_isf)\n",
    "        n_outliers_ocsvm = np.sum(is_outlier_ocsvm)\n",
    "\n",
    "        # Identify common outliers detected by all methods\n",
    "        outliers_common = np.logical_and(np.logical_and(is_outlier_lof, is_outlier_isf), is_outlier_ocsvm)\n",
    "        n_common_outliers = np.sum(outliers_common)\n",
    "\n",
    "        # Print the count of outliers detected by each method\n",
    "        print(f\"Number of LOF outliers: {n_outliers_lof}\")\n",
    "        print(f\"Number of ISF outliers: {n_outliers_isf}\")\n",
    "        print(f\"Number of OCSVM outliers: {n_outliers_ocsvm}\")\n",
    "        print(f\"Number of common outliers (LOF, ISF, OCSVM): {n_common_outliers}\")\n",
    "\n",
    "        # Add outlier flags to the DataFrame\n",
    "        df['LOF_Outlier'] = is_outlier_lof\n",
    "        df['ISF_Outlier'] = is_outlier_isf\n",
    "        df['OCSVM_Outlier'] = is_outlier_ocsvm\n",
    "        df['Common_Outliers'] = outliers_common  # True for common outliers\n",
    "\n",
    "        # Save the DataFrame with anomaly scores\n",
    "        output_file_path = os.path.join(output_folder, os.path.basename(file_path))\n",
    "        df.to_csv(output_file_path, index=True)\n",
    "\n",
    "# Specify your output files and the output folder\n",
    "output_files = [\n",
    "    \"corrected_data.csv\",\n",
    "    \"standardized_data.csv\",\n",
    "    \"normalized_data.csv\",\n",
    "    \"pca_reduced_data.csv\",\n",
    "    \"lda_reduced_data.csv\"\n",
    "]\n",
    "\n",
    "output_folder_anomaly_scores = \"output_anomaly_scores\"\n",
    "\n",
    "# Execute the function\n",
    "anomaly_detection(output_files, output_folder_anomaly_scores)\n"
   ]
  },
  {
   "cell_type": "code",
   "execution_count": 11,
   "metadata": {
    "colab": {
     "base_uri": "https://localhost:8080/"
    },
    "id": "ptnGp025ovaa",
    "outputId": "839d10a0-2c7f-43bf-9b18-1cf1dde97805"
   },
   "outputs": [
    {
     "name": "stdout",
     "output_type": "stream",
     "text": [
      "updating: output_anomaly_scores/ (stored 0%)\n",
      "updating: output_anomaly_scores/lda_reduced_data.csv (deflated 96%)\n",
      "updating: output_anomaly_scores/pca_reduced_data.csv (deflated 58%)\n",
      "updating: output_anomaly_scores/corrected_data.csv (deflated 63%)\n",
      "updating: output_anomaly_scores/normalized_data.csv (deflated 60%)\n",
      "updating: output_anomaly_scores/standardized_data.csv (deflated 58%)\n"
     ]
    }
   ],
   "source": [
    "!zip -r output_anomaly_scores.zip output_anomaly_scores"
   ]
  },
  {
   "cell_type": "markdown",
   "metadata": {
    "id": "jNdXQjcNZ-ta"
   },
   "source": [
    "#Classification"
   ]
  },
  {
   "cell_type": "code",
   "execution_count": 23,
   "metadata": {
    "colab": {
     "base_uri": "https://localhost:8080/"
    },
    "id": "o5oWdg8bHAYH",
    "outputId": "0f52a061-cd88-44b9-82dd-70c2c51b7b41"
   },
   "outputs": [
    {
     "name": "stdout",
     "output_type": "stream",
     "text": [
      "Processing dataset: corrected_data.csv\n",
      "Random Forest Best Parameters: {'n_estimators': 50, 'min_samples_split': 5, 'max_depth': 10}\n",
      "Random Forest Classification Report:\n",
      "                   precision    recall  f1-score   support\n",
      "\n",
      "Kirmizi_Pistachio       0.93      0.92      0.93       244\n",
      "  Siirt_Pistachio       0.90      0.91      0.91       186\n",
      "\n",
      "         accuracy                           0.92       430\n",
      "        macro avg       0.92      0.92      0.92       430\n",
      "     weighted avg       0.92      0.92      0.92       430\n",
      "\n",
      "Accuracy: 0.9186, F1 Score: 0.9173, Precision: 0.9165, Recall: 0.9181\n",
      "==================================================\n"
     ]
    },
    {
     "name": "stderr",
     "output_type": "stream",
     "text": [
      "/usr/local/lib/python3.10/dist-packages/sklearn/model_selection/_search.py:305: UserWarning: The total space of parameters 4 is smaller than n_iter=10. Running 4 iterations. For exhaustive searches, use GridSearchCV.\n",
      "  warnings.warn(\n"
     ]
    },
    {
     "name": "stdout",
     "output_type": "stream",
     "text": [
      "Naive Bayes Best Parameters: {'var_smoothing': 1e-10}\n",
      "Naive Bayes Classification Report:\n",
      "                   precision    recall  f1-score   support\n",
      "\n",
      "Kirmizi_Pistachio       0.90      0.80      0.85       244\n",
      "  Siirt_Pistachio       0.77      0.89      0.83       186\n",
      "\n",
      "         accuracy                           0.84       430\n",
      "        macro avg       0.84      0.85      0.84       430\n",
      "     weighted avg       0.85      0.84      0.84       430\n",
      "\n",
      "Accuracy: 0.8395, F1 Score: 0.8387, Precision: 0.8389, Recall: 0.8452\n",
      "==================================================\n"
     ]
    },
    {
     "name": "stderr",
     "output_type": "stream",
     "text": [
      "/usr/local/lib/python3.10/dist-packages/sklearn/metrics/_classification.py:1344: UndefinedMetricWarning: Precision is ill-defined and being set to 0.0 in labels with no predicted samples. Use `zero_division` parameter to control this behavior.\n",
      "  _warn_prf(average, modifier, msg_start, len(result))\n",
      "/usr/local/lib/python3.10/dist-packages/sklearn/metrics/_classification.py:1344: UndefinedMetricWarning: Precision and F-score are ill-defined and being set to 0.0 in labels with no predicted samples. Use `zero_division` parameter to control this behavior.\n",
      "  _warn_prf(average, modifier, msg_start, len(result))\n",
      "/usr/local/lib/python3.10/dist-packages/sklearn/metrics/_classification.py:1344: UndefinedMetricWarning: Precision and F-score are ill-defined and being set to 0.0 in labels with no predicted samples. Use `zero_division` parameter to control this behavior.\n",
      "  _warn_prf(average, modifier, msg_start, len(result))\n",
      "/usr/local/lib/python3.10/dist-packages/sklearn/metrics/_classification.py:1344: UndefinedMetricWarning: Precision and F-score are ill-defined and being set to 0.0 in labels with no predicted samples. Use `zero_division` parameter to control this behavior.\n",
      "  _warn_prf(average, modifier, msg_start, len(result))\n"
     ]
    },
    {
     "name": "stdout",
     "output_type": "stream",
     "text": [
      "MLP Best Parameters: {'momentum': 0.7, 'learning_rate_init': 0.001, 'hidden_layer_sizes': (50, 50), 'alpha': 0.01}\n",
      "MLP Classification Report:\n",
      "                   precision    recall  f1-score   support\n",
      "\n",
      "Kirmizi_Pistachio       0.57      1.00      0.72       244\n",
      "  Siirt_Pistachio       0.00      0.00      0.00       186\n",
      "\n",
      "         accuracy                           0.57       430\n",
      "        macro avg       0.28      0.50      0.36       430\n",
      "     weighted avg       0.32      0.57      0.41       430\n",
      "\n",
      "Accuracy: 0.5674, F1 Score: 0.3620, Precision: 0.2837, Recall: 0.5000\n",
      "==================================================\n",
      "Processing dataset: standardized_data.csv\n",
      "Random Forest Best Parameters: {'n_estimators': 200, 'min_samples_split': 10, 'max_depth': 20}\n",
      "Random Forest Classification Report:\n",
      "                   precision    recall  f1-score   support\n",
      "\n",
      "Kirmizi_Pistachio       0.94      0.93      0.94       244\n",
      "  Siirt_Pistachio       0.91      0.92      0.92       186\n",
      "\n",
      "         accuracy                           0.93       430\n",
      "        macro avg       0.93      0.93      0.93       430\n",
      "     weighted avg       0.93      0.93      0.93       430\n",
      "\n",
      "Accuracy: 0.9302, F1 Score: 0.9290, Precision: 0.9285, Recall: 0.9296\n",
      "==================================================\n",
      "Naive Bayes Best Parameters: {'var_smoothing': 1e-10}\n",
      "Naive Bayes Classification Report:\n"
     ]
    },
    {
     "name": "stderr",
     "output_type": "stream",
     "text": [
      "/usr/local/lib/python3.10/dist-packages/sklearn/model_selection/_search.py:305: UserWarning: The total space of parameters 4 is smaller than n_iter=10. Running 4 iterations. For exhaustive searches, use GridSearchCV.\n",
      "  warnings.warn(\n"
     ]
    },
    {
     "name": "stdout",
     "output_type": "stream",
     "text": [
      "                   precision    recall  f1-score   support\n",
      "\n",
      "Kirmizi_Pistachio       0.94      0.86      0.90       244\n",
      "  Siirt_Pistachio       0.83      0.92      0.88       186\n",
      "\n",
      "         accuracy                           0.89       430\n",
      "        macro avg       0.88      0.89      0.89       430\n",
      "     weighted avg       0.89      0.89      0.89       430\n",
      "\n",
      "Accuracy: 0.8860, F1 Score: 0.8852, Precision: 0.8841, Recall: 0.8906\n",
      "==================================================\n",
      "MLP Best Parameters: {'momentum': 0.9, 'learning_rate_init': 0.001, 'hidden_layer_sizes': (100,), 'alpha': 0.01}\n",
      "MLP Classification Report:\n",
      "                   precision    recall  f1-score   support\n",
      "\n",
      "Kirmizi_Pistachio       0.96      0.97      0.97       244\n",
      "  Siirt_Pistachio       0.96      0.95      0.95       186\n",
      "\n",
      "         accuracy                           0.96       430\n",
      "        macro avg       0.96      0.96      0.96       430\n",
      "     weighted avg       0.96      0.96      0.96       430\n",
      "\n",
      "Accuracy: 0.9605, F1 Score: 0.9597, Precision: 0.9600, Recall: 0.9594\n",
      "==================================================\n",
      "Processing dataset: normalized_data.csv\n",
      "Random Forest Best Parameters: {'n_estimators': 100, 'min_samples_split': 10, 'max_depth': 10}\n",
      "Random Forest Classification Report:\n",
      "                   precision    recall  f1-score   support\n",
      "\n",
      "Kirmizi_Pistachio       0.93      0.93      0.93       244\n",
      "  Siirt_Pistachio       0.91      0.90      0.91       186\n",
      "\n",
      "         accuracy                           0.92       430\n",
      "        macro avg       0.92      0.92      0.92       430\n",
      "     weighted avg       0.92      0.92      0.92       430\n",
      "\n",
      "Accuracy: 0.9186, F1 Score: 0.9170, Precision: 0.9173, Recall: 0.9168\n",
      "==================================================\n"
     ]
    },
    {
     "name": "stderr",
     "output_type": "stream",
     "text": [
      "/usr/local/lib/python3.10/dist-packages/sklearn/model_selection/_search.py:305: UserWarning: The total space of parameters 4 is smaller than n_iter=10. Running 4 iterations. For exhaustive searches, use GridSearchCV.\n",
      "  warnings.warn(\n"
     ]
    },
    {
     "name": "stdout",
     "output_type": "stream",
     "text": [
      "Naive Bayes Best Parameters: {'var_smoothing': 1e-10}\n",
      "Naive Bayes Classification Report:\n",
      "                   precision    recall  f1-score   support\n",
      "\n",
      "Kirmizi_Pistachio       0.94      0.86      0.90       244\n",
      "  Siirt_Pistachio       0.83      0.92      0.88       186\n",
      "\n",
      "         accuracy                           0.89       430\n",
      "        macro avg       0.88      0.89      0.89       430\n",
      "     weighted avg       0.89      0.89      0.89       430\n",
      "\n",
      "Accuracy: 0.8860, F1 Score: 0.8852, Precision: 0.8841, Recall: 0.8906\n",
      "==================================================\n",
      "MLP Best Parameters: {'momentum': 0.5, 'learning_rate_init': 0.01, 'hidden_layer_sizes': (50,), 'alpha': 0.0001}\n",
      "MLP Classification Report:\n",
      "                   precision    recall  f1-score   support\n",
      "\n",
      "Kirmizi_Pistachio       0.95      0.94      0.94       244\n",
      "  Siirt_Pistachio       0.92      0.93      0.93       186\n",
      "\n",
      "         accuracy                           0.93       430\n",
      "        macro avg       0.93      0.93      0.93       430\n",
      "     weighted avg       0.94      0.93      0.93       430\n",
      "\n",
      "Accuracy: 0.9349, F1 Score: 0.9338, Precision: 0.9332, Recall: 0.9343\n",
      "==================================================\n",
      "Processing dataset: pca_reduced_data.csv\n",
      "Random Forest Best Parameters: {'n_estimators': 100, 'min_samples_split': 5, 'max_depth': 30}\n",
      "Random Forest Classification Report:\n",
      "                   precision    recall  f1-score   support\n",
      "\n",
      "Kirmizi_Pistachio       0.99      1.00      1.00       244\n",
      "  Siirt_Pistachio       1.00      0.99      0.99       186\n",
      "\n",
      "         accuracy                           1.00       430\n",
      "        macro avg       1.00      0.99      1.00       430\n",
      "     weighted avg       1.00      1.00      1.00       430\n",
      "\n",
      "Accuracy: 0.9953, F1 Score: 0.9953, Precision: 0.9959, Recall: 0.9946\n",
      "==================================================\n"
     ]
    },
    {
     "name": "stderr",
     "output_type": "stream",
     "text": [
      "/usr/local/lib/python3.10/dist-packages/sklearn/model_selection/_search.py:305: UserWarning: The total space of parameters 4 is smaller than n_iter=10. Running 4 iterations. For exhaustive searches, use GridSearchCV.\n",
      "  warnings.warn(\n"
     ]
    },
    {
     "name": "stdout",
     "output_type": "stream",
     "text": [
      "Naive Bayes Best Parameters: {'var_smoothing': 1e-10}\n",
      "Naive Bayes Classification Report:\n",
      "                   precision    recall  f1-score   support\n",
      "\n",
      "Kirmizi_Pistachio       0.99      1.00      0.99       244\n",
      "  Siirt_Pistachio       1.00      0.98      0.99       186\n",
      "\n",
      "         accuracy                           0.99       430\n",
      "        macro avg       0.99      0.99      0.99       430\n",
      "     weighted avg       0.99      0.99      0.99       430\n",
      "\n",
      "Accuracy: 0.9930, F1 Score: 0.9929, Precision: 0.9939, Recall: 0.9919\n",
      "==================================================\n",
      "MLP Best Parameters: {'momentum': 0.7, 'learning_rate_init': 0.001, 'hidden_layer_sizes': (50,), 'alpha': 0.001}\n",
      "MLP Classification Report:\n",
      "                   precision    recall  f1-score   support\n",
      "\n",
      "Kirmizi_Pistachio       1.00      1.00      1.00       244\n",
      "  Siirt_Pistachio       1.00      1.00      1.00       186\n",
      "\n",
      "         accuracy                           1.00       430\n",
      "        macro avg       1.00      1.00      1.00       430\n",
      "     weighted avg       1.00      1.00      1.00       430\n",
      "\n",
      "Accuracy: 1.0000, F1 Score: 1.0000, Precision: 1.0000, Recall: 1.0000\n",
      "==================================================\n",
      "                  Dataset     Classifier  Accuracy  F1 Score  Precision  \\\n",
      "0      corrected_data.csv  Random Forest  0.918605  0.917251   0.916540   \n",
      "1      corrected_data.csv    Naive Bayes  0.839535  0.838697   0.838937   \n",
      "2      corrected_data.csv            MLP  0.567442  0.362018   0.283721   \n",
      "3   standardized_data.csv  Random Forest  0.930233  0.929029   0.928521   \n",
      "4   standardized_data.csv    Naive Bayes  0.886047  0.885197   0.884069   \n",
      "5   standardized_data.csv            MLP  0.960465  0.959707   0.960011   \n",
      "6     normalized_data.csv  Random Forest  0.918605  0.917043   0.917319   \n",
      "7     normalized_data.csv    Naive Bayes  0.886047  0.885197   0.884069   \n",
      "8     normalized_data.csv            MLP  0.934884  0.933760   0.933247   \n",
      "9    pca_reduced_data.csv  Random Forest  0.995349  0.995256   0.995935   \n",
      "10   pca_reduced_data.csv    Naive Bayes  0.993023  0.992880   0.993927   \n",
      "11   pca_reduced_data.csv            MLP  1.000000  1.000000   1.000000   \n",
      "\n",
      "      Recall                                    Best Parameters  \n",
      "0   0.918055  {'n_estimators': 50, 'min_samples_split': 5, '...  \n",
      "1   0.845188                           {'var_smoothing': 1e-10}  \n",
      "2   0.500000  {'momentum': 0.7, 'learning_rate_init': 0.001,...  \n",
      "3   0.929579  {'n_estimators': 200, 'min_samples_split': 10,...  \n",
      "4   0.890644                           {'var_smoothing': 1e-10}  \n",
      "5   0.959413  {'momentum': 0.9, 'learning_rate_init': 0.001,...  \n",
      "6   0.916777  {'n_estimators': 100, 'min_samples_split': 10,...  \n",
      "7   0.890644                           {'var_smoothing': 1e-10}  \n",
      "8   0.934316  {'momentum': 0.5, 'learning_rate_init': 0.01, ...  \n",
      "9   0.994624  {'n_estimators': 100, 'min_samples_split': 5, ...  \n",
      "10  0.991935                           {'var_smoothing': 1e-10}  \n",
      "11  1.000000  {'momentum': 0.7, 'learning_rate_init': 0.001,...  \n",
      "All plots and confusion matrices have been saved and zipped here: classification_plots.zip\n"
     ]
    }
   ],
   "source": [
    "from sklearn.metrics import accuracy_score, f1_score, precision_score, recall_score, classification_report, confusion_matrix, ConfusionMatrixDisplay\n",
    "\n",
    "def classification(data_files):\n",
    "    overall_results = []\n",
    "    plots_folder = \"classification_plots\"\n",
    "    os.makedirs(plots_folder, exist_ok=True)\n",
    "\n",
    "    for file_path in data_files:\n",
    "        print(f\"Processing dataset: {file_path}\")\n",
    "        results = []\n",
    "        df = pd.read_csv(file_path)\n",
    "\n",
    "        X = df.drop(columns=['Class'])\n",
    "        y = df['Class']\n",
    "\n",
    "        X_train, X_test, y_train, y_test = train_test_split(X, y, test_size=0.2, random_state=42)\n",
    "\n",
    "        classifiers = {\n",
    "            \"Random Forest\": {\n",
    "                \"model\": RandomForestClassifier(criterion='entropy'),\n",
    "                \"params\": {'n_estimators': [50, 100, 200], 'max_depth': [None, 10, 20, 30], 'min_samples_split': [2, 5, 10]}\n",
    "            },\n",
    "            \"Naive Bayes\": {\n",
    "                \"model\": GaussianNB(),\n",
    "                \"params\": {'var_smoothing': np.logspace(-10, -7, 4)}\n",
    "            },\n",
    "            \"MLP\": {\n",
    "                \"model\": MLPClassifier(max_iter=1000),\n",
    "                \"params\": {'hidden_layer_sizes': [(50,), (100,), (50, 50)], 'alpha': [0.0001, 0.001, 0.01], 'learning_rate_init': [0.001, 0.01], 'momentum': [0.5, 0.7, 0.9]}\n",
    "            }\n",
    "        }\n",
    "\n",
    "        for classifier_name, classifier in classifiers.items():\n",
    "            random_search = RandomizedSearchCV(classifier[\"model\"], classifier[\"params\"], n_iter=10, cv=3, n_jobs=-1, scoring='f1_macro', random_state=42)\n",
    "            random_search.fit(X_train, y_train)\n",
    "            best_clf = random_search.best_estimator_\n",
    "            predictions = best_clf.predict(X_test)\n",
    "\n",
    "            accuracy = accuracy_score(y_test, predictions)\n",
    "            f1 = f1_score(y_test, predictions, average='macro')\n",
    "            precision = precision_score(y_test, predictions, average='macro')\n",
    "            recall = recall_score(y_test, predictions, average='macro')\n",
    "\n",
    "            print(f\"{classifier_name} Best Parameters: {random_search.best_params_}\")\n",
    "            print(f\"{classifier_name} Classification Report:\")\n",
    "            print(classification_report(y_test, predictions))\n",
    "            print(f\"Accuracy: {accuracy:.4f}, F1 Score: {f1:.4f}, Precision: {precision:.4f}, Recall: {recall:.4f}\")\n",
    "\n",
    "            results.append({\"Dataset\": os.path.basename(file_path), \"Classifier\": classifier_name, \"Accuracy\": accuracy, \"F1 Score\": f1, \"Precision\": precision, \"Recall\": recall, \"Best Parameters\": str(random_search.best_params_)})\n",
    "\n",
    "            print(\"=\"*50)\n",
    "\n",
    "        overall_results.extend(results)\n",
    "\n",
    "    results_df = pd.DataFrame(overall_results)\n",
    "    print(results_df)\n",
    "\n",
    "    for metric in [\"Accuracy\", \"F1 Score\", \"Precision\", \"Recall\"]:\n",
    "        plt.figure(figsize=(10, 7))\n",
    "        sns.barplot(x=metric, y='Dataset', hue='Classifier', data=results_df, palette='coolwarm')\n",
    "        plt.title(f'Classifier {metric} Comparison Across Datasets')\n",
    "        plt.tight_layout()\n",
    "        plt.savefig(os.path.join(plots_folder, f'classifier_{metric.lower()}_comparison.jpeg'))\n",
    "        plt.close()\n",
    "\n",
    "    shutil.make_archive(plots_folder, 'zip', plots_folder)\n",
    "\n",
    "    return f\"{plots_folder}.zip\"\n",
    "\n",
    "# Example usage\n",
    "output_files = [\n",
    "    \"corrected_data.csv\",\n",
    "    \"standardized_data.csv\",\n",
    "    \"normalized_data.csv\",\n",
    "    \"pca_reduced_data.csv\",\n",
    "]\n",
    "\n",
    "# Call the classification function with the list of dataset paths\n",
    "zip_file_path = classification(output_files)\n",
    "\n",
    "# Print the path to the zipped folder containing all plots\n",
    "print(f\"All plots and confusion matrices have been saved and zipped here: {zip_file_path}\")"
   ]
  },
  {
   "cell_type": "code",
   "execution_count": 16,
   "metadata": {
    "colab": {
     "base_uri": "https://localhost:8080/"
    },
    "id": "UNUvUB7jJhGY",
    "outputId": "2490fd37-aef7-4bd1-8470-73d99c2e9a05"
   },
   "outputs": [
    {
     "name": "stdout",
     "output_type": "stream",
     "text": [
      "  adding: classification_plots/ (stored 0%)\n",
      "  adding: classification_plots/Random Forest_standardized_data_confusion_matrix.png (deflated 16%)\n",
      "  adding: classification_plots/Naive Bayes_corrected_data_confusion_matrix.png (deflated 17%)\n",
      "  adding: classification_plots/Naive Bayes_normalized_data_confusion_matrix.png (deflated 17%)\n",
      "  adding: classification_plots/Random Forest_corrected_data_confusion_matrix.png (deflated 16%)\n",
      "  adding: classification_plots/Random Forest_pca_reduced_data_confusion_matrix.png (deflated 18%)\n",
      "  adding: classification_plots/Naive Bayes_standardized_data_confusion_matrix.png (deflated 17%)\n",
      "  adding: classification_plots/classifier_accuracy_comparison.jpeg (deflated 60%)\n",
      "  adding: classification_plots/Random Forest_normalized_data_confusion_matrix.png (deflated 16%)\n",
      "  adding: classification_plots/MLP_normalized_data_confusion_matrix.png (deflated 17%)\n",
      "  adding: classification_plots/Naive Bayes_pca_reduced_data_confusion_matrix.png (deflated 18%)\n",
      "  adding: classification_plots/MLP_corrected_data_confusion_matrix.png (deflated 18%)\n",
      "  adding: classification_plots/classifier_f1 score_comparison.jpeg (deflated 60%)\n",
      "  adding: classification_plots/MLP_standardized_data_confusion_matrix.png (deflated 16%)\n",
      "  adding: classification_plots/MLP_pca_reduced_data_confusion_matrix.png (deflated 18%)\n"
     ]
    }
   ],
   "source": [
    "#zip classification plots folder\n",
    "\n",
    "!zip -r classification_plots.zip classification_plots\n"
   ]
  },
  {
   "cell_type": "markdown",
   "metadata": {
    "id": "8Zy5bH1zRD6A"
   },
   "source": [
    "#Image Classification"
   ]
  },
  {
   "cell_type": "markdown",
   "metadata": {
    "id": "eg6y8PmZWzXj"
   },
   "source": [
    "Load Images"
   ]
  },
  {
   "cell_type": "code",
   "execution_count": 33,
   "metadata": {
    "id": "zj5zQUCARHhF"
   },
   "outputs": [],
   "source": [
    "# unzip Pista Images  into a folder\n",
    "!unzip -q 'Pista Images'.zip -d Pista_Images"
   ]
  },
  {
   "cell_type": "code",
   "execution_count": 30,
   "metadata": {
    "id": "C0DgiBznTxey"
   },
   "outputs": [],
   "source": [
    "# Path to your pistachio dataset\n",
    "dataset_path = '/content/Pista_Images/Pista Images'\n",
    "\n",
    "# Load images and labels\n",
    "def load_dataset(dataset_path, image_size=(64, 64)):\n",
    "    images = []\n",
    "    labels = []\n",
    "\n",
    "    for label in os.listdir(dataset_path):\n",
    "        class_path = os.path.join(dataset_path, label)\n",
    "        if not os.path.isdir(class_path):\n",
    "            continue\n",
    "        for image_name in os.listdir(class_path):\n",
    "            image_path = os.path.join(class_path, image_name)\n",
    "            image = imread(image_path)\n",
    "            image = resize(image, image_size, anti_aliasing=True, mode='reflect')\n",
    "            images.append(image.flatten())  # Flatten the image\n",
    "            labels.append(label)\n",
    "\n",
    "    return np.array(images), np.array(labels)"
   ]
  },
  {
   "cell_type": "markdown",
   "metadata": {
    "id": "53XE8uREW3mL"
   },
   "source": [
    "Modelling MLP and NB Classifiers"
   ]
  },
  {
   "cell_type": "code",
   "execution_count": 34,
   "metadata": {
    "colab": {
     "base_uri": "https://localhost:8080/",
     "height": 1000
    },
    "id": "duBXoN6xIsPX",
    "outputId": "74f6ca42-1d49-42b0-8f13-ecfc2a0f3bac"
   },
   "outputs": [
    {
     "name": "stdout",
     "output_type": "stream",
     "text": [
      "Sample label before encoding: Siirt_Pistachio\n",
      "Sample label after encoding: 1\n"
     ]
    },
    {
     "name": "stderr",
     "output_type": "stream",
     "text": [
      "WARNING:matplotlib.image:Clipping input data to the valid range for imshow with RGB data ([0..1] for floats or [0..255] for integers).\n"
     ]
    },
    {
     "data": {
      "image/png": "[encoded data removed]",
      "text/plain": [
       "<Figure size 640x480 with 1 Axes>"
      ]
     },
     "metadata": {},
     "output_type": "display_data"
    },
    {
     "name": "stdout",
     "output_type": "stream",
     "text": [
      "MLPClassifier Best Parameters: {'learning_rate_init': 0.001, 'hidden_layer_sizes': (100,), 'alpha': 0.0001}\n",
      "MLPClassifier Classification Report:\n",
      "              precision    recall  f1-score   support\n",
      "\n",
      "           0       0.91      0.88      0.89       249\n",
      "           1       0.84      0.88      0.86       181\n",
      "\n",
      "    accuracy                           0.88       430\n",
      "   macro avg       0.87      0.88      0.87       430\n",
      "weighted avg       0.88      0.88      0.88       430\n",
      "\n",
      "Accuracy: 0.8767, F1 Score: 0.8744, Precision: 0.8726, Recall: 0.8770\n",
      "==================================================\n"
     ]
    },
    {
     "name": "stderr",
     "output_type": "stream",
     "text": [
      "/usr/local/lib/python3.10/dist-packages/sklearn/model_selection/_search.py:305: UserWarning: The total space of parameters 4 is smaller than n_iter=10. Running 4 iterations. For exhaustive searches, use GridSearchCV.\n",
      "  warnings.warn(\n"
     ]
    },
    {
     "name": "stdout",
     "output_type": "stream",
     "text": [
      "GaussianNB Best Parameters: {'var_smoothing': 1e-07}\n",
      "GaussianNB Classification Report:\n",
      "              precision    recall  f1-score   support\n",
      "\n",
      "           0       0.60      0.97      0.74       249\n",
      "           1       0.71      0.11      0.19       181\n",
      "\n",
      "    accuracy                           0.61       430\n",
      "   macro avg       0.66      0.54      0.47       430\n",
      "weighted avg       0.65      0.61      0.51       430\n",
      "\n",
      "Accuracy: 0.6070, F1 Score: 0.4659, Precision: 0.6569, Recall: 0.5392\n",
      "==================================================\n",
      "           Model  Accuracy  F1 Score  Precision    Recall  \\\n",
      "0  MLPClassifier  0.876744  0.874379   0.872588  0.876978   \n",
      "1     GaussianNB  0.606977  0.465893   0.656894  0.539184   \n",
      "\n",
      "                                         Best Params  \n",
      "0  {'learning_rate_init': 0.001, 'hidden_layer_si...  \n",
      "1                           {'var_smoothing': 1e-07}  \n"
     ]
    }
   ],
   "source": [
    "\n",
    "def classify_and_tune_pistachio_images(dataset_path):\n",
    "    # Load, preprocess dataset, and split\n",
    "    image_size = (64, 64)  # Adjust depending on dataset\n",
    "    X, y = load_dataset(dataset_path, image_size)\n",
    "\n",
    "    # Encode labels to integers\n",
    "    label_encoder = LabelEncoder()\n",
    "    y_encoded = label_encoder.fit_transform(y)\n",
    "    print(f\"Sample label before encoding: {y[0]}\")\n",
    "    print(f\"Sample label after encoding: {y_encoded[0]}\")\n",
    "\n",
    "    # Split the data\n",
    "    X_train, X_test, y_train, y_test = train_test_split(X, y_encoded, test_size=0.2, random_state=42)\n",
    "\n",
    "    # Standardize features\n",
    "    scaler = StandardScaler()\n",
    "    X_train_scaled = scaler.fit_transform(X_train)\n",
    "    X_test_scaled = scaler.transform(X_test)\n",
    "\n",
    "    # Visualize a sample image after standardizing\n",
    "    plt.imshow(X_train_scaled[0].reshape(image_size[0], image_size[1], -1), cmap='gray')\n",
    "    plt.title('Sample Image After Standardizing')\n",
    "    plt.show()\n",
    "\n",
    "    # Define models and parameters for tuning\n",
    "    models_params = {\n",
    "        'MLPClassifier': {\n",
    "            'model': MLPClassifier(max_iter=1000),\n",
    "            'params': {\n",
    "                'hidden_layer_sizes': [(100,), (50, 50), (100, 50)],\n",
    "                'alpha': [0.0001, 0.001, 0.05],\n",
    "                'learning_rate_init': [0.001, 0.01],\n",
    "            }\n",
    "        },\n",
    "        'GaussianNB': {\n",
    "            'model': GaussianNB(),\n",
    "            'params': {\n",
    "                'var_smoothing': np.logspace(-10, -7, 4)\n",
    "            }\n",
    "        }\n",
    "    }\n",
    "\n",
    "    results = []\n",
    "\n",
    "    for model_name, mp in models_params.items():\n",
    "        random_search = RandomizedSearchCV(mp['model'], mp['params'], n_iter=10, cv=3, scoring='f1_macro', random_state=42, n_jobs=-1)\n",
    "        random_search.fit(X_train_scaled, y_train)\n",
    "        best_model = random_search.best_estimator_\n",
    "        y_pred = best_model.predict(X_test_scaled)\n",
    "        accuracy = accuracy_score(y_test, y_pred)\n",
    "        f1 = f1_score(y_test, y_pred, average='macro')\n",
    "        precision = precision_score(y_test, y_pred, average='macro')\n",
    "        recall = recall_score(y_test, y_pred, average='macro')\n",
    "\n",
    "        print(f\"{model_name} Best Parameters: {random_search.best_params_}\")\n",
    "        print(f\"{model_name} Classification Report:\")\n",
    "        print(classification_report(y_test, y_pred))\n",
    "        print(f\"Accuracy: {accuracy:.4f}, F1 Score: {f1:.4f}, Precision: {precision:.4f}, Recall: {recall:.4f}\")\n",
    "\n",
    "        results.append({'Model': model_name, 'Accuracy': accuracy, 'F1 Score': f1, 'Precision': precision, 'Recall': recall, 'Best Params': random_search.best_params_})\n",
    "\n",
    "        print(\"=\"*50)\n",
    "\n",
    "    # Print the results in a DataFrame for a nice table format\n",
    "    results_df = pd.DataFrame(results)\n",
    "    print(results_df)\n",
    "\n",
    "\n",
    "# Assuming the dataset_path is defined and points to your dataset directory\n",
    "classify_and_tune_pistachio_images(dataset_path)\n"
   ]
  },
  {
   "cell_type": "code",
   "execution_count": 14,
   "metadata": {
    "id": "cmRgzr28H9NU"
   },
   "outputs": [],
   "source": []
  }
 ],
 "metadata": {
  "accelerator": "GPU",
  "colab": {
   "gpuType": "T4",
   "provenance": []
  },
  "kernelspec": {
   "display_name": "Python 3",
   "name": "python3"
  },
  "language_info": {
   "name": "python"
  }
 },
 "nbformat": 4,
 "nbformat_minor": 0
}
