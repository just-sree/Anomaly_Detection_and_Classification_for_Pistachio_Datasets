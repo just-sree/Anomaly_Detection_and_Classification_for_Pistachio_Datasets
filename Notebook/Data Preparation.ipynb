{
  "cells": [
    {
      "cell_type": "markdown",
      "metadata": {
        "id": "CNKHL8DKupAz"
      },
      "source": [
        "#File Paths"
      ]
    },
    {
      "cell_type": "code",
      "execution_count": 1,
      "metadata": {
        "id": "lDcf258Ruvu2"
      },
      "outputs": [],
      "source": [
        "file_path = (\"/content/Pistachio_28_Features_Dataset.xlsx\")"
      ]
    },
    {
      "cell_type": "markdown",
      "metadata": {
        "id": "4HIS9CUbufP2"
      },
      "source": [
        "#Libraries:"
      ]
    },
    {
      "cell_type": "code",
      "execution_count": 2,
      "metadata": {
        "id": "ZAGhoayqsor8"
      },
      "outputs": [],
      "source": [
        "import pandas as pd\n",
        "import numpy as np\n",
        "from imblearn.over_sampling import SMOTE\n",
        "from sklearn.preprocessing import StandardScaler, MinMaxScaler, LabelEncoder\n",
        "from sklearn.decomposition import PCA\n",
        "from sklearn.discriminant_analysis import LinearDiscriminantAnalysis\n",
        "from sklearn.cluster import KMeans\n",
        "import matplotlib.pyplot as plt\n",
        "from sklearn.preprocessing import OneHotEncoder\n",
        "from sklearn.compose import ColumnTransformer\n",
        "import openpyxl\n",
        "import os\n",
        "import warnings\n",
        "warnings.filterwarnings(\"ignore\")"
      ]
    },
    {
      "cell_type": "markdown",
      "metadata": {
        "id": "9XxY7GJbUbxr"
      },
      "source": [
        "#Data Description"
      ]
    },
    {
      "cell_type": "code",
      "execution_count": 11,
      "metadata": {
        "colab": {
          "base_uri": "https://localhost:8080/",
          "height": 279
        },
        "id": "U6iUUQP-MN1m",
        "outputId": "0fef6ecc-0083-4f76-8112-d95cacfb7f07"
      },
      "outputs": [
        {
          "data": {
            "application/vnd.google.colaboratory.intrinsic+json": {
              "type": "dataframe",
              "variable_name": "df"
            },
            "text/html": [
              "\n",
              "  <div id=\"df-2029f518-afa6-462c-af15-805927ba67c5\" class=\"colab-df-container\">\n",
              "    <div>\n",
              "<style scoped>\n",
              "    .dataframe tbody tr th:only-of-type {\n",
              "        vertical-align: middle;\n",
              "    }\n",
              "\n",
              "    .dataframe tbody tr th {\n",
              "        vertical-align: top;\n",
              "    }\n",
              "\n",
              "    .dataframe thead th {\n",
              "        text-align: right;\n",
              "    }\n",
              "</style>\n",
              "<table border=\"1\" class=\"dataframe\">\n",
              "  <thead>\n",
              "    <tr style=\"text-align: right;\">\n",
              "      <th></th>\n",
              "      <th>Area</th>\n",
              "      <th>Perimeter</th>\n",
              "      <th>Major_Axis</th>\n",
              "      <th>Minor_Axis</th>\n",
              "      <th>Eccentricity</th>\n",
              "      <th>Eqdiasq</th>\n",
              "      <th>Solidity</th>\n",
              "      <th>Convex_Area</th>\n",
              "      <th>Extent</th>\n",
              "      <th>Aspect_Ratio</th>\n",
              "      <th>...</th>\n",
              "      <th>StdDev_RR</th>\n",
              "      <th>StdDev_RG</th>\n",
              "      <th>StdDev_RB</th>\n",
              "      <th>Skew_RR</th>\n",
              "      <th>Skew_RG</th>\n",
              "      <th>Skew_RB</th>\n",
              "      <th>Kurtosis_RR</th>\n",
              "      <th>Kurtosis_RG</th>\n",
              "      <th>Kurtosis_RB</th>\n",
              "      <th>Class</th>\n",
              "    </tr>\n",
              "  </thead>\n",
              "  <tbody>\n",
              "    <tr>\n",
              "      <th>0</th>\n",
              "      <td>63391</td>\n",
              "      <td>1568.405</td>\n",
              "      <td>390.3396</td>\n",
              "      <td>236.7461</td>\n",
              "      <td>0.7951</td>\n",
              "      <td>284.0984</td>\n",
              "      <td>0.8665</td>\n",
              "      <td>73160</td>\n",
              "      <td>0.6394</td>\n",
              "      <td>1.6488</td>\n",
              "      <td>...</td>\n",
              "      <td>17.7206</td>\n",
              "      <td>19.6024</td>\n",
              "      <td>21.1342</td>\n",
              "      <td>0.4581</td>\n",
              "      <td>0.6635</td>\n",
              "      <td>0.7591</td>\n",
              "      <td>2.9692</td>\n",
              "      <td>3.0576</td>\n",
              "      <td>2.9542</td>\n",
              "      <td>Kirmizi_Pistachio</td>\n",
              "    </tr>\n",
              "    <tr>\n",
              "      <th>1</th>\n",
              "      <td>68358</td>\n",
              "      <td>1942.187</td>\n",
              "      <td>410.8594</td>\n",
              "      <td>234.7525</td>\n",
              "      <td>0.8207</td>\n",
              "      <td>295.0188</td>\n",
              "      <td>0.8765</td>\n",
              "      <td>77991</td>\n",
              "      <td>0.6772</td>\n",
              "      <td>1.7502</td>\n",
              "      <td>...</td>\n",
              "      <td>26.7061</td>\n",
              "      <td>27.2112</td>\n",
              "      <td>25.1035</td>\n",
              "      <td>-0.3847</td>\n",
              "      <td>-0.2713</td>\n",
              "      <td>-0.2927</td>\n",
              "      <td>1.9807</td>\n",
              "      <td>2.1006</td>\n",
              "      <td>2.2152</td>\n",
              "      <td>Kirmizi_Pistachio</td>\n",
              "    </tr>\n",
              "    <tr>\n",
              "      <th>2</th>\n",
              "      <td>73589</td>\n",
              "      <td>1246.538</td>\n",
              "      <td>452.3630</td>\n",
              "      <td>220.5547</td>\n",
              "      <td>0.8731</td>\n",
              "      <td>306.0987</td>\n",
              "      <td>0.9172</td>\n",
              "      <td>80234</td>\n",
              "      <td>0.7127</td>\n",
              "      <td>2.0510</td>\n",
              "      <td>...</td>\n",
              "      <td>19.0129</td>\n",
              "      <td>20.0703</td>\n",
              "      <td>20.7006</td>\n",
              "      <td>-0.6014</td>\n",
              "      <td>-0.4500</td>\n",
              "      <td>0.2998</td>\n",
              "      <td>3.5420</td>\n",
              "      <td>3.6856</td>\n",
              "      <td>4.1012</td>\n",
              "      <td>Kirmizi_Pistachio</td>\n",
              "    </tr>\n",
              "    <tr>\n",
              "      <th>3</th>\n",
              "      <td>71106</td>\n",
              "      <td>1445.261</td>\n",
              "      <td>429.5291</td>\n",
              "      <td>216.0765</td>\n",
              "      <td>0.8643</td>\n",
              "      <td>300.8903</td>\n",
              "      <td>0.9589</td>\n",
              "      <td>74153</td>\n",
              "      <td>0.7028</td>\n",
              "      <td>1.9879</td>\n",
              "      <td>...</td>\n",
              "      <td>18.1773</td>\n",
              "      <td>18.7152</td>\n",
              "      <td>29.7883</td>\n",
              "      <td>-0.6943</td>\n",
              "      <td>-0.6278</td>\n",
              "      <td>-0.7798</td>\n",
              "      <td>2.8776</td>\n",
              "      <td>2.8748</td>\n",
              "      <td>2.8953</td>\n",
              "      <td>Kirmizi_Pistachio</td>\n",
              "    </tr>\n",
              "    <tr>\n",
              "      <th>4</th>\n",
              "      <td>80087</td>\n",
              "      <td>1251.524</td>\n",
              "      <td>469.3783</td>\n",
              "      <td>220.9344</td>\n",
              "      <td>0.8823</td>\n",
              "      <td>319.3273</td>\n",
              "      <td>0.9657</td>\n",
              "      <td>82929</td>\n",
              "      <td>0.7459</td>\n",
              "      <td>2.1245</td>\n",
              "      <td>...</td>\n",
              "      <td>23.4298</td>\n",
              "      <td>24.0878</td>\n",
              "      <td>23.1157</td>\n",
              "      <td>-0.9287</td>\n",
              "      <td>-0.8134</td>\n",
              "      <td>-0.4970</td>\n",
              "      <td>2.9915</td>\n",
              "      <td>2.8813</td>\n",
              "      <td>2.7362</td>\n",
              "      <td>Kirmizi_Pistachio</td>\n",
              "    </tr>\n",
              "  </tbody>\n",
              "</table>\n",
              "<p>5 rows × 29 columns</p>\n",
              "</div>\n",
              "    <div class=\"colab-df-buttons\">\n",
              "\n",
              "  <div class=\"colab-df-container\">\n",
              "    <button class=\"colab-df-convert\" onclick=\"convertToInteractive('df-2029f518-afa6-462c-af15-805927ba67c5')\"\n",
              "            title=\"Convert this dataframe to an interactive table.\"\n",
              "            style=\"display:none;\">\n",
              "\n",
              "  <svg xmlns=\"http://www.w3.org/2000/svg\" height=\"24px\" viewBox=\"0 -960 960 960\">\n",
              "    <path d=\"M120-120v-720h720v720H120Zm60-500h600v-160H180v160Zm220 220h160v-160H400v160Zm0 220h160v-160H400v160ZM180-400h160v-160H180v160Zm440 0h160v-160H620v160ZM180-180h160v-160H180v160Zm440 0h160v-160H620v160Z\"/>\n",
              "  </svg>\n",
              "    </button>\n",
              "\n",
              "  <style>\n",
              "    .colab-df-container {\n",
              "      display:flex;\n",
              "      gap: 12px;\n",
              "    }\n",
              "\n",
              "    .colab-df-convert {\n",
              "      background-color: #E8F0FE;\n",
              "      border: none;\n",
              "      border-radius: 50%;\n",
              "      cursor: pointer;\n",
              "      display: none;\n",
              "      fill: #1967D2;\n",
              "      height: 32px;\n",
              "      padding: 0 0 0 0;\n",
              "      width: 32px;\n",
              "    }\n",
              "\n",
              "    .colab-df-convert:hover {\n",
              "      background-color: #E2EBFA;\n",
              "      box-shadow: 0px 1px 2px rgba(60, 64, 67, 0.3), 0px 1px 3px 1px rgba(60, 64, 67, 0.15);\n",
              "      fill: #174EA6;\n",
              "    }\n",
              "\n",
              "    .colab-df-buttons div {\n",
              "      margin-bottom: 4px;\n",
              "    }\n",
              "\n",
              "    [theme=dark] .colab-df-convert {\n",
              "      background-color: #3B4455;\n",
              "      fill: #D2E3FC;\n",
              "    }\n",
              "\n",
              "    [theme=dark] .colab-df-convert:hover {\n",
              "      background-color: #434B5C;\n",
              "      box-shadow: 0px 1px 3px 1px rgba(0, 0, 0, 0.15);\n",
              "      filter: drop-shadow(0px 1px 2px rgba(0, 0, 0, 0.3));\n",
              "      fill: #FFFFFF;\n",
              "    }\n",
              "  </style>\n",
              "\n",
              "    <script>\n",
              "      const buttonEl =\n",
              "        document.querySelector('#df-2029f518-afa6-462c-af15-805927ba67c5 button.colab-df-convert');\n",
              "      buttonEl.style.display =\n",
              "        google.colab.kernel.accessAllowed ? 'block' : 'none';\n",
              "\n",
              "      async function convertToInteractive(key) {\n",
              "        const element = document.querySelector('#df-2029f518-afa6-462c-af15-805927ba67c5');\n",
              "        const dataTable =\n",
              "          await google.colab.kernel.invokeFunction('convertToInteractive',\n",
              "                                                    [key], {});\n",
              "        if (!dataTable) return;\n",
              "\n",
              "        const docLinkHtml = 'Like what you see? Visit the ' +\n",
              "          '<a target=\"_blank\" href=https://colab.research.google.com/notebooks/data_table.ipynb>data table notebook</a>'\n",
              "          + ' to learn more about interactive tables.';\n",
              "        element.innerHTML = '';\n",
              "        dataTable['output_type'] = 'display_data';\n",
              "        await google.colab.output.renderOutput(dataTable, element);\n",
              "        const docLink = document.createElement('div');\n",
              "        docLink.innerHTML = docLinkHtml;\n",
              "        element.appendChild(docLink);\n",
              "      }\n",
              "    </script>\n",
              "  </div>\n",
              "\n",
              "\n",
              "<div id=\"df-02bfe231-4d3f-48a2-9558-c06e38bce7ca\">\n",
              "  <button class=\"colab-df-quickchart\" onclick=\"quickchart('df-02bfe231-4d3f-48a2-9558-c06e38bce7ca')\"\n",
              "            title=\"Suggest charts\"\n",
              "            style=\"display:none;\">\n",
              "\n",
              "<svg xmlns=\"http://www.w3.org/2000/svg\" height=\"24px\"viewBox=\"0 0 24 24\"\n",
              "     width=\"24px\">\n",
              "    <g>\n",
              "        <path d=\"M19 3H5c-1.1 0-2 .9-2 2v14c0 1.1.9 2 2 2h14c1.1 0 2-.9 2-2V5c0-1.1-.9-2-2-2zM9 17H7v-7h2v7zm4 0h-2V7h2v10zm4 0h-2v-4h2v4z\"/>\n",
              "    </g>\n",
              "</svg>\n",
              "  </button>\n",
              "\n",
              "<style>\n",
              "  .colab-df-quickchart {\n",
              "      --bg-color: #E8F0FE;\n",
              "      --fill-color: #1967D2;\n",
              "      --hover-bg-color: #E2EBFA;\n",
              "      --hover-fill-color: #174EA6;\n",
              "      --disabled-fill-color: #AAA;\n",
              "      --disabled-bg-color: #DDD;\n",
              "  }\n",
              "\n",
              "  [theme=dark] .colab-df-quickchart {\n",
              "      --bg-color: #3B4455;\n",
              "      --fill-color: #D2E3FC;\n",
              "      --hover-bg-color: #434B5C;\n",
              "      --hover-fill-color: #FFFFFF;\n",
              "      --disabled-bg-color: #3B4455;\n",
              "      --disabled-fill-color: #666;\n",
              "  }\n",
              "\n",
              "  .colab-df-quickchart {\n",
              "    background-color: var(--bg-color);\n",
              "    border: none;\n",
              "    border-radius: 50%;\n",
              "    cursor: pointer;\n",
              "    display: none;\n",
              "    fill: var(--fill-color);\n",
              "    height: 32px;\n",
              "    padding: 0;\n",
              "    width: 32px;\n",
              "  }\n",
              "\n",
              "  .colab-df-quickchart:hover {\n",
              "    background-color: var(--hover-bg-color);\n",
              "    box-shadow: 0 1px 2px rgba(60, 64, 67, 0.3), 0 1px 3px 1px rgba(60, 64, 67, 0.15);\n",
              "    fill: var(--button-hover-fill-color);\n",
              "  }\n",
              "\n",
              "  .colab-df-quickchart-complete:disabled,\n",
              "  .colab-df-quickchart-complete:disabled:hover {\n",
              "    background-color: var(--disabled-bg-color);\n",
              "    fill: var(--disabled-fill-color);\n",
              "    box-shadow: none;\n",
              "  }\n",
              "\n",
              "  .colab-df-spinner {\n",
              "    border: 2px solid var(--fill-color);\n",
              "    border-color: transparent;\n",
              "    border-bottom-color: var(--fill-color);\n",
              "    animation:\n",
              "      spin 1s steps(1) infinite;\n",
              "  }\n",
              "\n",
              "  @keyframes spin {\n",
              "    0% {\n",
              "      border-color: transparent;\n",
              "      border-bottom-color: var(--fill-color);\n",
              "      border-left-color: var(--fill-color);\n",
              "    }\n",
              "    20% {\n",
              "      border-color: transparent;\n",
              "      border-left-color: var(--fill-color);\n",
              "      border-top-color: var(--fill-color);\n",
              "    }\n",
              "    30% {\n",
              "      border-color: transparent;\n",
              "      border-left-color: var(--fill-color);\n",
              "      border-top-color: var(--fill-color);\n",
              "      border-right-color: var(--fill-color);\n",
              "    }\n",
              "    40% {\n",
              "      border-color: transparent;\n",
              "      border-right-color: var(--fill-color);\n",
              "      border-top-color: var(--fill-color);\n",
              "    }\n",
              "    60% {\n",
              "      border-color: transparent;\n",
              "      border-right-color: var(--fill-color);\n",
              "    }\n",
              "    80% {\n",
              "      border-color: transparent;\n",
              "      border-right-color: var(--fill-color);\n",
              "      border-bottom-color: var(--fill-color);\n",
              "    }\n",
              "    90% {\n",
              "      border-color: transparent;\n",
              "      border-bottom-color: var(--fill-color);\n",
              "    }\n",
              "  }\n",
              "</style>\n",
              "\n",
              "  <script>\n",
              "    async function quickchart(key) {\n",
              "      const quickchartButtonEl =\n",
              "        document.querySelector('#' + key + ' button');\n",
              "      quickchartButtonEl.disabled = true;  // To prevent multiple clicks.\n",
              "      quickchartButtonEl.classList.add('colab-df-spinner');\n",
              "      try {\n",
              "        const charts = await google.colab.kernel.invokeFunction(\n",
              "            'suggestCharts', [key], {});\n",
              "      } catch (error) {\n",
              "        console.error('Error during call to suggestCharts:', error);\n",
              "      }\n",
              "      quickchartButtonEl.classList.remove('colab-df-spinner');\n",
              "      quickchartButtonEl.classList.add('colab-df-quickchart-complete');\n",
              "    }\n",
              "    (() => {\n",
              "      let quickchartButtonEl =\n",
              "        document.querySelector('#df-02bfe231-4d3f-48a2-9558-c06e38bce7ca button');\n",
              "      quickchartButtonEl.style.display =\n",
              "        google.colab.kernel.accessAllowed ? 'block' : 'none';\n",
              "    })();\n",
              "  </script>\n",
              "</div>\n",
              "\n",
              "    </div>\n",
              "  </div>\n"
            ],
            "text/plain": [
              "    Area  Perimeter  Major_Axis  Minor_Axis  Eccentricity   Eqdiasq  Solidity  \\\n",
              "0  63391   1568.405    390.3396    236.7461        0.7951  284.0984    0.8665   \n",
              "1  68358   1942.187    410.8594    234.7525        0.8207  295.0188    0.8765   \n",
              "2  73589   1246.538    452.3630    220.5547        0.8731  306.0987    0.9172   \n",
              "3  71106   1445.261    429.5291    216.0765        0.8643  300.8903    0.9589   \n",
              "4  80087   1251.524    469.3783    220.9344        0.8823  319.3273    0.9657   \n",
              "\n",
              "   Convex_Area  Extent  Aspect_Ratio  ...  StdDev_RR  StdDev_RG  StdDev_RB  \\\n",
              "0        73160  0.6394        1.6488  ...    17.7206    19.6024    21.1342   \n",
              "1        77991  0.6772        1.7502  ...    26.7061    27.2112    25.1035   \n",
              "2        80234  0.7127        2.0510  ...    19.0129    20.0703    20.7006   \n",
              "3        74153  0.7028        1.9879  ...    18.1773    18.7152    29.7883   \n",
              "4        82929  0.7459        2.1245  ...    23.4298    24.0878    23.1157   \n",
              "\n",
              "   Skew_RR  Skew_RG  Skew_RB  Kurtosis_RR  Kurtosis_RG  Kurtosis_RB  \\\n",
              "0   0.4581   0.6635   0.7591       2.9692       3.0576       2.9542   \n",
              "1  -0.3847  -0.2713  -0.2927       1.9807       2.1006       2.2152   \n",
              "2  -0.6014  -0.4500   0.2998       3.5420       3.6856       4.1012   \n",
              "3  -0.6943  -0.6278  -0.7798       2.8776       2.8748       2.8953   \n",
              "4  -0.9287  -0.8134  -0.4970       2.9915       2.8813       2.7362   \n",
              "\n",
              "               Class  \n",
              "0  Kirmizi_Pistachio  \n",
              "1  Kirmizi_Pistachio  \n",
              "2  Kirmizi_Pistachio  \n",
              "3  Kirmizi_Pistachio  \n",
              "4  Kirmizi_Pistachio  \n",
              "\n",
              "[5 rows x 29 columns]"
            ]
          },
          "execution_count": 11,
          "metadata": {},
          "output_type": "execute_result"
        },
        {
          "name": "stdout",
          "output_type": "stream",
          "text": [
            "Warning: Total number of columns (29) exceeds max_columns (20) limiting to first (20) columns.\n"
          ]
        }
      ],
      "source": [
        "# Read Excel file into a pandas DataFrame\n",
        "df = pd.read_excel('/content/Pistachio_28_Features_Dataset.xlsx', sheet_name=  'Pistachio_28_Features_Dataset', engine='openpyxl')\n",
        "df.head()"
      ]
    },
    {
      "cell_type": "code",
      "execution_count": 16,
      "metadata": {
        "colab": {
          "base_uri": "https://localhost:8080/",
          "height": 564
        },
        "id": "wkFOO3HeVhXY",
        "outputId": "aca00686-7f8e-4bef-a99a-f7492220e8b9"
      },
      "outputs": [
        {
          "data": {
            "image/png": "[encoded data removed]",
            "text/plain": [
              "<Figure size 800x600 with 1 Axes>"
            ]
          },
          "metadata": {},
          "output_type": "display_data"
        }
      ],
      "source": [
        "# Plot class distribution\n",
        "import seaborn as sns\n",
        "plt.figure(figsize=(8, 6))\n",
        "sns.countplot(x='Class', data=df)\n",
        "plt.title('Class Distribution')\n",
        "plt.xlabel('Class')\n",
        "plt.ylabel('Count')\n",
        "plt.grid(True)\n",
        "plt.show()"
      ]
    },
    {
      "cell_type": "code",
      "execution_count": 13,
      "metadata": {
        "colab": {
          "base_uri": "https://localhost:8080/",
          "height": 391
        },
        "id": "nysZEf2LU8YO",
        "outputId": "35139f39-6d12-4b6a-f0d4-0b821f5aca00"
      },
      "outputs": [
        {
          "data": {
            "image/png": "[encoded data removed]",
            "text/plain": [
              "<Figure size 800x400 with 1 Axes>"
            ]
          },
          "metadata": {},
          "output_type": "display_data"
        }
      ],
      "source": [
        "from matplotlib import pyplot as plt\n",
        "df['Area'].plot(kind='line', figsize=(8, 4), title='Area')\n",
        "plt.gca().spines[['top', 'right']].set_visible(False)"
      ]
    },
    {
      "cell_type": "markdown",
      "metadata": {
        "id": "a4wsmWgNu3po"
      },
      "source": [
        "#Functions"
      ]
    },
    {
      "cell_type": "markdown",
      "metadata": {
        "id": "RmN5cHciDdUD"
      },
      "source": [
        "Function using SMOTE to correct the data imbalance"
      ]
    },
    {
      "cell_type": "code",
      "execution_count": 3,
      "metadata": {
        "id": "BuLsohIfDU6Q"
      },
      "outputs": [],
      "source": [
        "def correct_imbalance(df, y):\n",
        "    # Encode categorical target labels if needed\n",
        "    label_encoder = LabelEncoder()\n",
        "    y_encoded = label_encoder.fit_transform(y)\n",
        "\n",
        "    # Drop non-numeric columns if present\n",
        "    non_numeric_columns = df.select_dtypes(include=['object']).columns\n",
        "    df_numeric = df.drop(columns=non_numeric_columns, axis=1)\n",
        "\n",
        "    # Apply SMOTE for oversampling the minority class\n",
        "    smote = SMOTE()\n",
        "    X_resampled, y_resampled = smote.fit_resample(df_numeric, y_encoded)\n",
        "\n",
        "    # Convert the resampled data into a DataFrame\n",
        "    df_resampled = pd.DataFrame(X_resampled, columns=df_numeric.columns)\n",
        "    df_resampled['Class'] = label_encoder.inverse_transform(y_resampled)  # Convert back to original labels if needed\n",
        "\n",
        "    return df_resampled"
      ]
    },
    {
      "cell_type": "markdown",
      "metadata": {
        "id": "Dp-o5WgXDknq"
      },
      "source": [
        "Function for standardization:"
      ]
    },
    {
      "cell_type": "code",
      "execution_count": 4,
      "metadata": {
        "id": "udIwV7tgDq-E"
      },
      "outputs": [],
      "source": [
        "def standardize_data(df):\n",
        "    # Identify categorical columns\n",
        "    cat_columns = df.select_dtypes(include=['object']).columns.tolist()\n",
        "\n",
        "    # Apply one-hot encoding to categorical columns\n",
        "    if cat_columns:\n",
        "        transformer = ColumnTransformer(transformers=[('cat', OneHotEncoder(), cat_columns)], remainder='passthrough')\n",
        "        df_encoded = transformer.fit_transform(df)\n",
        "    else:\n",
        "        df_encoded = df\n",
        "\n",
        "    # Apply standard scaling\n",
        "    scaler = StandardScaler()\n",
        "    return scaler.fit_transform(df_encoded)"
      ]
    },
    {
      "cell_type": "markdown",
      "metadata": {
        "id": "VnaoYTNADuIz"
      },
      "source": [
        "Function for normalization"
      ]
    },
    {
      "cell_type": "code",
      "execution_count": 5,
      "metadata": {
        "id": "awZTqPlPDu4q"
      },
      "outputs": [],
      "source": [
        "def normalize_data(df):\n",
        "    # Identify categorical columns\n",
        "    cat_columns = df.select_dtypes(include=['object']).columns.tolist()\n",
        "\n",
        "    # Apply one-hot encoding to categorical columns\n",
        "    if cat_columns:\n",
        "        transformer = ColumnTransformer(transformers=[('cat', OneHotEncoder(), cat_columns)], remainder='passthrough')\n",
        "        df_encoded = transformer.fit_transform(df)\n",
        "    else:\n",
        "        df_encoded = df\n",
        "\n",
        "    # Apply min-max scaling\n",
        "    scaler = MinMaxScaler()\n",
        "    return scaler.fit_transform(df_encoded)"
      ]
    },
    {
      "cell_type": "markdown",
      "metadata": {
        "id": "OmtZwEm8D65q"
      },
      "source": [
        "Function for dimensionality reduction (supervized) LDA:"
      ]
    },
    {
      "cell_type": "code",
      "execution_count": 6,
      "metadata": {
        "id": "zm1cYCxWD3jy"
      },
      "outputs": [],
      "source": [
        "def reduce_dim_lda(df, y, n_components):\n",
        "    n_features = df.shape[1]\n",
        "    n_classes = len(set(y))\n",
        "    max_components = min(n_features, n_classes - 1)\n",
        "\n",
        "    if n_components > max_components:\n",
        "        print(\"Warning: Number of components exceeds the maximum allowed. Reducing to\", max_components)\n",
        "        n_components = max_components\n",
        "\n",
        "    lda = LinearDiscriminantAnalysis(n_components=n_components)\n",
        "    return lda.fit_transform(df, y)"
      ]
    },
    {
      "cell_type": "markdown",
      "metadata": {
        "id": "8Qabha0jS7V8"
      },
      "source": [
        "Function for dimensionality reduction (unsupervized) PCA:"
      ]
    },
    {
      "cell_type": "code",
      "execution_count": 7,
      "metadata": {
        "id": "EF3OzoaFOJ7L"
      },
      "outputs": [],
      "source": [
        "def reduce_dim_pca(df, n_components):\n",
        "    pca = PCA(n_components=n_components)\n",
        "    return pca.fit_transform(df)"
      ]
    },
    {
      "cell_type": "markdown",
      "metadata": {
        "id": "jp-gJ72qSOix"
      },
      "source": [
        "Function for plotting Screeplot for PCA"
      ]
    },
    {
      "cell_type": "code",
      "execution_count": 8,
      "metadata": {
        "id": "lbOzRh6VS6wG"
      },
      "outputs": [],
      "source": [
        "def plot_pca_scree(explained_variance_ratio):\n",
        "    # Plot scree plot\n",
        "    plt.figure(figsize=(8, 6))\n",
        "    plt.plot(np.arange(1, len(explained_variance_ratio) + 1), explained_variance_ratio, marker='o', linestyle='-')\n",
        "    plt.title('Scree Plot for PCA')\n",
        "    plt.xlabel('Number of Components')\n",
        "    plt.ylabel('Explained Variance Ratio')\n",
        "    plt.xticks(np.arange(1, len(explained_variance_ratio) + 1))\n",
        "    plt.grid(True)\n",
        "    plt.show()"
      ]
    },
    {
      "cell_type": "markdown",
      "metadata": {
        "id": "wwScCjN4TwTi"
      },
      "source": [
        "Function to calculate the elbow point for Kmeans"
      ]
    },
    {
      "cell_type": "code",
      "execution_count": 9,
      "metadata": {
        "id": "QBqmWU85yfOF"
      },
      "outputs": [],
      "source": [
        "# Not entirely necessary because we know there should be two clusters:\n",
        "def elbow_method(data):\n",
        "    distortions = []\n",
        "    K = range(1, 11)\n",
        "    for k in K:\n",
        "        kmeans = KMeans(n_clusters=k, random_state=42)\n",
        "        kmeans.fit(data)\n",
        "        distortions.append(kmeans.inertia_)\n",
        "    # Plot the elbow\n",
        "    plt.plot(K, distortions, 'bx-')\n",
        "    plt.xlabel('Number of Centroids (K)')\n",
        "    plt.ylabel('Distortion')\n",
        "    plt.title('Elbow Method for Optimal K')\n",
        "    plt.grid(True)\n",
        "    plt.show()"
      ]
    },
    {
      "cell_type": "markdown",
      "metadata": {
        "id": "ncezAAAtfJko"
      },
      "source": [
        "Function to load and prepare each dataset for tree based and distance based classification."
      ]
    },
    {
      "cell_type": "code",
      "execution_count": 21,
      "metadata": {
        "colab": {
          "base_uri": "https://localhost:8080/"
        },
        "id": "ipWCCZ1ncMBm",
        "outputId": "167646f3-9b09-4825-dde7-c634cbf63f8a"
      },
      "outputs": [
        {
          "name": "stdout",
          "output_type": "stream",
          "text": [
            "Data from output/corrected_data.csv prepared for distance classifiers.\n",
            "Data from output/corrected_data.csv prepared for tree classifiers.\n",
            "Data from output/standardized_data.csv prepared for distance classifiers.\n",
            "Data from output/standardized_data.csv prepared for tree classifiers.\n",
            "Data from output/normalized_data.csv prepared for distance classifiers.\n",
            "Data from output/normalized_data.csv prepared for tree classifiers.\n",
            "Data from output/pca_reduced_data.csv prepared for distance classifiers.\n",
            "Data from output/pca_reduced_data.csv prepared for tree classifiers.\n",
            "Data from output/lda_reduced_data.csv prepared for distance classifiers.\n",
            "Data from output/lda_reduced_data.csv prepared for tree classifiers.\n"
          ]
        }
      ],
      "source": [
        "import pandas as pd\n",
        "from sklearn.decomposition import PCA\n",
        "from sklearn.preprocessing import StandardScaler, MinMaxScaler\n",
        "from sklearn.discriminant_analysis import LinearDiscriminantAnalysis as LDA\n",
        "\n",
        "# Function to load and optionally prepare data\n",
        "def prepare_data_for_classification(csv_path, classifier_type='distance'):\n",
        "    # Load the dataset\n",
        "    df = pd.read_csv(csv_path)\n",
        "    y = df['Class']  # Assuming the target column is 'Class'\n",
        "    X = df.drop('Class', axis=1)  # Features\n",
        "\n",
        "    # Prepare data based on classifier type\n",
        "    if classifier_type == 'distance':\n",
        "        # Standardize data for distance-based classifiers\n",
        "        scaler = StandardScaler()\n",
        "        X_prepared = scaler.fit_transform(X)\n",
        "    elif classifier_type == 'tree':\n",
        "        # No need to standardize for tree-based classifiers\n",
        "        X_prepared = X\n",
        "    else:\n",
        "        raise ValueError(\"Classifier type must be 'distance' or 'tree'\")\n",
        "\n",
        "    return X_prepared, y"
      ]
    },
    {
      "cell_type": "markdown",
      "metadata": {
        "id": "mkzfWBX7ynmI"
      },
      "source": [
        "#Main function:"
      ]
    },
    {
      "cell_type": "code",
      "execution_count": 23,
      "metadata": {
        "colab": {
          "base_uri": "https://localhost:8080/",
          "height": 1000
        },
        "id": "i0TpXdoWyqrn",
        "outputId": "22d16e8d-bc05-480a-b400-85ba2ea129aa"
      },
      "outputs": [
        {
          "data": {
            "image/png": "[encoded data removed]",
            "text/plain": [
              "<Figure size 800x600 with 1 Axes>"
            ]
          },
          "metadata": {},
          "output_type": "display_data"
        },
        {
          "data": {
            "image/png": "[encoded data removed]",
            "text/plain": [
              "<Figure size 640x480 with 1 Axes>"
            ]
          },
          "metadata": {},
          "output_type": "display_data"
        },
        {
          "name": "stdout",
          "output_type": "stream",
          "text": [
            "Data from output/corrected_data.csv prepared for distance classifiers.\n",
            "Data from output/corrected_data.csv prepared for tree classifiers.\n",
            "Data from output/standardized_data.csv prepared for distance classifiers.\n",
            "Data from output/standardized_data.csv prepared for tree classifiers.\n",
            "Data from output/normalized_data.csv prepared for distance classifiers.\n",
            "Data from output/normalized_data.csv prepared for tree classifiers.\n",
            "Data from output/pca_reduced_data.csv prepared for distance classifiers.\n",
            "Data from output/pca_reduced_data.csv prepared for tree classifiers.\n",
            "Data from output/lda_reduced_data.csv prepared for distance classifiers.\n",
            "Data from output/lda_reduced_data.csv prepared for tree classifiers.\n"
          ]
        }
      ],
      "source": [
        "def main():\n",
        "  # Extract target labels\n",
        "  y = df['Class']\n",
        "  # Create a folder to save output files\n",
        "  output_folder = \"output\"\n",
        "  if not os.path.exists(output_folder):\n",
        "      os.makedirs(output_folder)\n",
        "\n",
        "  # Correct imbalance in the dataset\n",
        "  correct_imbalance(df, y)\n",
        "\n",
        "  # Save corrected DataFrame to CSV\n",
        "  corrected_csv_path = os.path.join(output_folder, \"corrected_data.csv\")\n",
        "  df.to_csv(corrected_csv_path, index=False)\n",
        "\n",
        "  # Standardize data\n",
        "  standardized_data = standardize_data(df)\n",
        "  standardized_df = pd.DataFrame(standardized_data)\n",
        "  standardized_df['Class'] = df['Class'].values\n",
        "  standardized_csv_path = os.path.join(output_folder, \"standardized_data.csv\")\n",
        "  standardized_df.to_csv(standardized_csv_path, index=False)\n",
        "\n",
        "  # Normalize data\n",
        "  normalized_data = normalize_data(df)\n",
        "  normalized_df = pd.DataFrame(normalized_data)\n",
        "  normalized_df['Class'] = df['Class'].values\n",
        "  normalized_csv_path = os.path.join(output_folder, \"normalized_data.csv\")\n",
        "  normalized_df.to_csv(normalized_csv_path, index=False)\n",
        "\n",
        "  # Reduce dimensionality using PCA\n",
        "  reduced_pca_data = reduce_dim_pca(standardized_data, n_components=14) #from scree plot\n",
        "  # Calculate explained variance ratio for PCA\n",
        "  explained_variance_ratio = PCA().fit(standardized_data).explained_variance_ratio_\n",
        "\n",
        "  # Plot PCA scree plot\n",
        "  plot_pca_scree(explained_variance_ratio)\n",
        "  reduced_pca_df = pd.DataFrame(reduced_pca_data)\n",
        "  reduced_pca_df['Class'] = df['Class'].values\n",
        "  reduced_pca_csv_path = os.path.join(output_folder, \"pca_reduced_data.csv\")\n",
        "  reduced_pca_df.to_csv(reduced_pca_csv_path, index=False)\n",
        "\n",
        "  # Reduce dimensionality using LDA\n",
        "  reduced_lda_data = reduce_dim_lda(standardized_data, y, n_components=1)  #since there are 2 classes\n",
        "  reduced_lda_df = pd.DataFrame(reduced_lda_data)\n",
        "  reduced_lda_df['Class'] = df['Class'].values\n",
        "  reduced_lda_csv_path = os.path.join(output_folder, \"lda_reduced_data.csv\")\n",
        "  reduced_lda_df.to_csv(reduced_lda_csv_path, index=False)\n",
        "\n",
        "  # Plot Elbow Method for Optimal K in KMeans\n",
        "  elbow_method(standardized_data)\n",
        "\n",
        "  # Paths to the output CSV files\n",
        "  output_files = [\n",
        "    \"output/corrected_data.csv\",\n",
        "    \"output/standardized_data.csv\",\n",
        "    \"output/normalized_data.csv\",\n",
        "    \"output/pca_reduced_data.csv\",\n",
        "    \"output/lda_reduced_data.csv\"\n",
        "    ]\n",
        "\n",
        "  # Classifier types\n",
        "  classifier_types = ['distance', 'tree']\n",
        "\n",
        "  # Iterate over all datasets and prepare them for both classifier types\n",
        "  for file_path in output_files:\n",
        "      for classifier_type in classifier_types:\n",
        "          X, y = prepare_data_for_classification(file_path, classifier_type)\n",
        "          print(f\"Data from {file_path} prepared for {classifier_type} classifiers.\")\n",
        "\n",
        "if __name__ == \"__main__\":\n",
        "    main()"
      ]
    }
  ],
  "metadata": {
    "colab": {
      "collapsed_sections": [
        "CNKHL8DKupAz",
        "4HIS9CUbufP2",
        "9XxY7GJbUbxr"
      ],
      "provenance": []
    },
    "kernelspec": {
      "display_name": "Python 3",
      "name": "python3"
    },
    "language_info": {
      "name": "python"
    }
  },
  "nbformat": 4,
  "nbformat_minor": 0
}
